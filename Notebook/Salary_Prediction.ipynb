{
 "cells": [
  {
   "cell_type": "markdown",
   "id": "3121e2be-13cc-4a4a-8045-f0b64ed49841",
   "metadata": {},
   "source": [
    "### Importing the dependencies"
   ]
  },
  {
   "cell_type": "code",
   "execution_count": 41,
   "id": "28bbd148-1120-4455-b6c4-1733712169ac",
   "metadata": {},
   "outputs": [],
   "source": [
    "import pandas as pd\n",
    "import numpy as np\n",
    "import seaborn as sns\n",
    "import pickle\n",
    "import matplotlib.pyplot as plt\n",
    "import plotly.express as px\n",
    "\n",
    "# For dealing with textual data\n",
    "import string\n",
    "from nltk.corpus import stopwords\n",
    "from nltk.tokenize import word_tokenize\n",
    "from nltk.stem import WordNetLemmatizer\n",
    "lemmatizer = WordNetLemmatizer()\n",
    "from sklearn.cluster import KMeans\n",
    "from sklearn.preprocessing import StandardScaler\n",
    "from sklearn.metrics import silhouette_score\n",
    "from sklearn.compose import ColumnTransformer\n",
    "from sklearn.pipeline import Pipeline\n",
    "from sklearn.preprocessing import OrdinalEncoder,OneHotEncoder,MinMaxScaler,StandardScaler\n",
    "import warnings\n",
    "\n",
    "# Ignore the warning\n",
    "warnings.filterwarnings(\"ignore\", category=UserWarning)"
   ]
  },
  {
   "cell_type": "code",
   "execution_count": 2,
   "id": "2039e096-c0ab-477d-b940-336bffd0b48b",
   "metadata": {},
   "outputs": [],
   "source": [
    "# Loading the data from csv file\n",
    "df = pd.read_csv('../Dataset/glassdoor_jobs.csv')"
   ]
  },
  {
   "cell_type": "markdown",
   "id": "0b38bd34-0525-4ca9-9d50-2d6268bb2e95",
   "metadata": {},
   "source": [
    "### Exploratory data analysis"
   ]
  },
  {
   "cell_type": "code",
   "execution_count": 3,
   "id": "b3add7a3-0444-4e6c-91ea-4c9775a5fd5d",
   "metadata": {},
   "outputs": [
    {
     "data": {
      "text/html": [
       "<div>\n",
       "<style scoped>\n",
       "    .dataframe tbody tr th:only-of-type {\n",
       "        vertical-align: middle;\n",
       "    }\n",
       "\n",
       "    .dataframe tbody tr th {\n",
       "        vertical-align: top;\n",
       "    }\n",
       "\n",
       "    .dataframe thead th {\n",
       "        text-align: right;\n",
       "    }\n",
       "</style>\n",
       "<table border=\"1\" class=\"dataframe\">\n",
       "  <thead>\n",
       "    <tr style=\"text-align: right;\">\n",
       "      <th></th>\n",
       "      <th>Unnamed: 0</th>\n",
       "      <th>Job Title</th>\n",
       "      <th>Salary Estimate</th>\n",
       "      <th>Job Description</th>\n",
       "      <th>Rating</th>\n",
       "      <th>Company Name</th>\n",
       "      <th>Location</th>\n",
       "      <th>Headquarters</th>\n",
       "      <th>Size</th>\n",
       "      <th>Founded</th>\n",
       "      <th>Type of ownership</th>\n",
       "      <th>Industry</th>\n",
       "      <th>Sector</th>\n",
       "      <th>Revenue</th>\n",
       "      <th>Competitors</th>\n",
       "    </tr>\n",
       "  </thead>\n",
       "  <tbody>\n",
       "    <tr>\n",
       "      <th>126</th>\n",
       "      <td>126</td>\n",
       "      <td>Data Scientist</td>\n",
       "      <td>$83K-$144K (Glassdoor est.)</td>\n",
       "      <td>Job Description\\n\\n\\nTakeda is looking for a D...</td>\n",
       "      <td>3.7</td>\n",
       "      <td>Takeda Pharmaceuticals\\n3.7</td>\n",
       "      <td>Cambridge, MA</td>\n",
       "      <td>OSAKA, Japan</td>\n",
       "      <td>10000+ employees</td>\n",
       "      <td>1781</td>\n",
       "      <td>Company - Public</td>\n",
       "      <td>Biotech &amp; Pharmaceuticals</td>\n",
       "      <td>Biotech &amp; Pharmaceuticals</td>\n",
       "      <td>$10+ billion (USD)</td>\n",
       "      <td>Novartis, Baxter, Pfizer</td>\n",
       "    </tr>\n",
       "    <tr>\n",
       "      <th>32</th>\n",
       "      <td>32</td>\n",
       "      <td>Data Scientist</td>\n",
       "      <td>$72K-$120K (Glassdoor est.)</td>\n",
       "      <td>Preferred Qualifications\\nMasters degree or do...</td>\n",
       "      <td>3.6</td>\n",
       "      <td>Amrock\\n3.6</td>\n",
       "      <td>Detroit, MI</td>\n",
       "      <td>Detroit, MI</td>\n",
       "      <td>1001 to 5000 employees</td>\n",
       "      <td>1997</td>\n",
       "      <td>Company - Private</td>\n",
       "      <td>Real Estate</td>\n",
       "      <td>Real Estate</td>\n",
       "      <td>$500 million to $1 billion (USD)</td>\n",
       "      <td>-1</td>\n",
       "    </tr>\n",
       "    <tr>\n",
       "      <th>17</th>\n",
       "      <td>17</td>\n",
       "      <td>Customer Data Scientist</td>\n",
       "      <td>$118K-$189K (Glassdoor est.)</td>\n",
       "      <td>Company Overview\\n\\nH2O.ai is the open source ...</td>\n",
       "      <td>4.3</td>\n",
       "      <td>h2o.ai\\n4.3</td>\n",
       "      <td>Mountain View, CA</td>\n",
       "      <td>Mountain View, CA</td>\n",
       "      <td>201 to 500 employees</td>\n",
       "      <td>2011</td>\n",
       "      <td>Company - Private</td>\n",
       "      <td>Enterprise Software &amp; Network Solutions</td>\n",
       "      <td>Information Technology</td>\n",
       "      <td>Unknown / Non-Applicable</td>\n",
       "      <td>-1</td>\n",
       "    </tr>\n",
       "  </tbody>\n",
       "</table>\n",
       "</div>"
      ],
      "text/plain": [
       "     Unnamed: 0                Job Title               Salary Estimate  \\\n",
       "126         126           Data Scientist   $83K-$144K (Glassdoor est.)   \n",
       "32           32           Data Scientist   $72K-$120K (Glassdoor est.)   \n",
       "17           17  Customer Data Scientist  $118K-$189K (Glassdoor est.)   \n",
       "\n",
       "                                       Job Description  Rating  \\\n",
       "126  Job Description\\n\\n\\nTakeda is looking for a D...     3.7   \n",
       "32   Preferred Qualifications\\nMasters degree or do...     3.6   \n",
       "17   Company Overview\\n\\nH2O.ai is the open source ...     4.3   \n",
       "\n",
       "                    Company Name           Location       Headquarters  \\\n",
       "126  Takeda Pharmaceuticals\\n3.7      Cambridge, MA       OSAKA, Japan   \n",
       "32                   Amrock\\n3.6        Detroit, MI        Detroit, MI   \n",
       "17                   h2o.ai\\n4.3  Mountain View, CA  Mountain View, CA   \n",
       "\n",
       "                       Size  Founded  Type of ownership  \\\n",
       "126        10000+ employees     1781   Company - Public   \n",
       "32   1001 to 5000 employees     1997  Company - Private   \n",
       "17     201 to 500 employees     2011  Company - Private   \n",
       "\n",
       "                                    Industry                     Sector  \\\n",
       "126                Biotech & Pharmaceuticals  Biotech & Pharmaceuticals   \n",
       "32                               Real Estate                Real Estate   \n",
       "17   Enterprise Software & Network Solutions     Information Technology   \n",
       "\n",
       "                              Revenue               Competitors  \n",
       "126                $10+ billion (USD)  Novartis, Baxter, Pfizer  \n",
       "32   $500 million to $1 billion (USD)                        -1  \n",
       "17           Unknown / Non-Applicable                        -1  "
      ]
     },
     "execution_count": 3,
     "metadata": {},
     "output_type": "execute_result"
    }
   ],
   "source": [
    "df.sample(3)"
   ]
  },
  {
   "cell_type": "markdown",
   "id": "0c8ecc5f-ba53-4317-9c60-91868b641ba9",
   "metadata": {},
   "source": [
    "Let's write the things which I think needs to be done from the very first glance of the dataset\n",
    "- Extract the salary numerical values and create new feature with average salary value\n",
    "- Extract the company name from given format of {company/rating}\n",
    "- Remocal of unnecessary features such Unnamed 0,Competitors,Headquarters,Rating -> Because rating is done on what basis"
   ]
  },
  {
   "cell_type": "code",
   "execution_count": 4,
   "id": "8d1dd572-bca9-4bdb-b28c-b0f66f66caa9",
   "metadata": {},
   "outputs": [],
   "source": [
    "# Removing the unnecessary feature\n",
    "df.drop(['Unnamed: 0','Competitors','Headquarters','Rating'],axis=1,inplace=True)"
   ]
  },
  {
   "cell_type": "code",
   "execution_count": 5,
   "id": "7bb762d7-7683-4d1e-84e7-3d9d32168ee5",
   "metadata": {},
   "outputs": [],
   "source": [
    "# Storing the indexes of the rows having per hour amount mentioned\n",
    "indices = []\n",
    "for index, row in df.iterrows():\n",
    "    if 'Per Hour' in row['Salary Estimate']:  \n",
    "        indices.append(index)\n",
    "\n",
    "# Removing the rows \n",
    "df = df.drop(indices)\n",
    "df.reset_index(drop=True,inplace=True)"
   ]
  },
  {
   "cell_type": "code",
   "execution_count": 6,
   "id": "2d27a175-223a-496f-87af-8b9bf764366a",
   "metadata": {},
   "outputs": [],
   "source": [
    "diff_format_indices = []\n",
    "for idx,row in df.iterrows():\n",
    "    if 'Provided' in row['Salary Estimate']:\n",
    "        diff_format_indices.append(idx)\n",
    "\n",
    "set_diff_format_indices = set(diff_format_indices)"
   ]
  },
  {
   "cell_type": "code",
   "execution_count": 7,
   "id": "1173bf41-0893-41de-ae6d-89bfde8fa4c4",
   "metadata": {},
   "outputs": [],
   "source": [
    "avg_salary = []\n",
    "\n",
    "for index, row in df.iterrows():\n",
    "    salary_data_yearly = row['Salary Estimate']\n",
    "    \n",
    "    if salary_data_yearly != str(-1):\n",
    "\n",
    "        if index not in set_diff_format_indices:\n",
    "            lower_raw, upper_raw = salary_data_yearly.split('(')[0].split('-')\n",
    "            lower_value, upper_value = np.int64(lower_raw[1:-1]), np.int64(upper_raw[1:-2])\n",
    "            avg_salary.append(np.mean([lower_value, upper_value]))  \n",
    "        else:\n",
    "\n",
    "            # Using different extraction for the per hour instances\n",
    "            lower_raw, upper_raw = salary_data_yearly.split(':')[1].split('-')\n",
    "            lower_value, upper_value = np.int64(lower_raw[1:-1]), np.int64(upper_raw[1:-1])\n",
    "            avg_salary.append(np.mean([lower_value, upper_value]))  \n",
    "    else:\n",
    "        avg_salary.append(-1)\n",
    "\n",
    "# Adding a new feature\n",
    "df['Avg_salary'] = avg_salary\n",
    "df.drop(['Salary Estimate'],axis=1,inplace=True)"
   ]
  },
  {
   "cell_type": "markdown",
   "id": "c749a852-fd3e-44ed-9ca5-e716789cc30d",
   "metadata": {},
   "source": [
    "#### Cleaning the compnay name feature"
   ]
  },
  {
   "cell_type": "code",
   "execution_count": 8,
   "id": "c0294476-dde2-4330-8395-7678dedc62ba",
   "metadata": {},
   "outputs": [],
   "source": [
    "company_name = []\n",
    "\n",
    "for index, row in df.iterrows():\n",
    "    item = row['Company Name'].split('\\n')[0]\n",
    "    company_name.append(item) \n",
    "\n",
    "df['company_name'] = company_name\n",
    "df.drop(['Company Name'],axis=1,inplace=True)"
   ]
  },
  {
   "cell_type": "markdown",
   "id": "df403f20-e9b2-4a3b-8bfc-a2d05f5170b9",
   "metadata": {},
   "source": [
    "#### Cleaning the job description feature"
   ]
  },
  {
   "cell_type": "code",
   "execution_count": 9,
   "id": "26885c07-6500-4cf1-a2d5-7a8966b417cc",
   "metadata": {},
   "outputs": [],
   "source": [
    "def process_jd(text):\n",
    "    \"\"\"\n",
    "    Clean and preprocess a job description text.\n",
    "\n",
    "    Parameters:\n",
    "        text (str): The job description text to be processed.\n",
    "\n",
    "    Returns:\n",
    "        str: The cleaned and preprocessed job description text.\n",
    "\n",
    "    Steps:\n",
    "        1. Replaces newline characters ('\\n') with spaces.\n",
    "        2. Converts the text to lowercase.\n",
    "        3. Removes punctuation.\n",
    "        4. Removes English stop words.\n",
    "        5. Lemmatizes the remaining words.\n",
    "    \"\"\"\n",
    "    # Replacing \\n with ' '\n",
    "    text = text.replace('\\n', ' ')\n",
    "    \n",
    "    # Lowercasing\n",
    "    text_lower = text.lower()\n",
    "    \n",
    "    # Removing punctuation\n",
    "    text_no_punctuation = text_lower.translate(str.maketrans('', '', string.punctuation))\n",
    "    \n",
    "    # Removing stop words\n",
    "    stop_words = set(stopwords.words('english'))\n",
    "    word_tokens = word_tokenize(text_no_punctuation)\n",
    "    filtered_text = [word for word in word_tokens if word not in stop_words]\n",
    "    \n",
    "    # Lemmatization\n",
    "    lemmatized_text = [lemmatizer.lemmatize(word) for word in filtered_text]\n",
    "    \n",
    "    clean_text = ' '.join(lemmatized_text)    \n",
    "    return clean_text"
   ]
  },
  {
   "cell_type": "code",
   "execution_count": 10,
   "id": "53eaa6e1-5830-4683-83ea-985bb82b4745",
   "metadata": {},
   "outputs": [],
   "source": [
    "# Creating new feature for the clean job description and also removing the old feature\n",
    "df['jd'] = df['Job Description'].map(process_jd)\n",
    "df.drop(['Job Description'],axis=1,inplace=True)"
   ]
  },
  {
   "cell_type": "markdown",
   "id": "3d1f1e30-941e-4d62-a101-cf3e1c65ce93",
   "metadata": {},
   "source": [
    "#### Extracting the age of company"
   ]
  },
  {
   "cell_type": "code",
   "execution_count": 11,
   "id": "e3f2423d-11c6-4479-96ae-5cae11729579",
   "metadata": {},
   "outputs": [],
   "source": [
    "company_founding_years = {\n",
    "    'The Church of Jesus Christ of Latter-day Saints': 1830,\n",
    "    'Numeric, LLC': 2006,\n",
    "    'Kronos Bio': 2017,\n",
    "    'Teasdale Latin Foods': 1942,\n",
    "    'Decode_M': 2018,\n",
    "    'Cerus Corporation': 1991,\n",
    "    'P2 Energy Solutions': 1999,\n",
    "    'BPA Services': 2003,\n",
    "    'Meridian Technologies, Inc': 1999,\n",
    "    'Cuboid IT Solutions': 2010,\n",
    "    'Seen by Indeed': 2018,\n",
    "    'Karyopharm Therapeutics Inc.': 2008,\n",
    "    'UPM Pharmaceutical Inc': 2004,\n",
    "    'F&G': 1959,\n",
    "    'Homology Medicines, Inc.': 2015,\n",
    "    'Applied Research Laboratories': 1946,\n",
    "    'OneThree Biotech': 2019,\n",
    "    'Serigor Inc.': 2014,\n",
    "    'CareDx': 1998,\n",
    "    'CompuForce': 1982,\n",
    "    'ALIN': 2003,\n",
    "    'e-IT Professionals Corp.': 2003,\n",
    "    'Watchful': 2020,\n",
    "    'Conch Technologies, Inc': 2003,\n",
    "    'Maxar Technologies': 1969,\n",
    "    'Charter Spectrum': 2016, \n",
    "    'Two95 International Inc.': 1997,\n",
    "    'Edison Software, Inc.': 2009,\n",
    "    'Lorven Technologies Inc': 2006,\n",
    "    'Persivia': 2014,\n",
    "    'Delphi-US': 1998,\n",
    "    'Muso': 2010,\n",
    "    'Randstad': 2008, \n",
    "}\n",
    "\n",
    "for comp in company_founding_years:\n",
    "    df.loc[df['company_name'] == comp, 'Founded'] = company_founding_years[comp]"
   ]
  },
  {
   "cell_type": "code",
   "execution_count": 12,
   "id": "2cc9fa84-42ba-4b53-ab60-85aa74380ef8",
   "metadata": {},
   "outputs": [],
   "source": [
    "# Replacing the year founded with age of company and keeping -1 as they are\n",
    "for i in range(len(df)):\n",
    "    item = df.at[i, 'Founded']\n",
    "    if item != -1:\n",
    "        df.at[i, 'Founded'] = 2024 - item"
   ]
  },
  {
   "cell_type": "code",
   "execution_count": 13,
   "id": "a862b3d1-f858-4cd6-8afc-0fd66e5a46de",
   "metadata": {},
   "outputs": [
    {
     "data": {
      "image/png": "[encoded data removed]",
      "text/plain": [
       "<Figure size 1500x400 with 2 Axes>"
      ]
     },
     "metadata": {},
     "output_type": "display_data"
    }
   ],
   "source": [
    "fig, ax = plt.subplots(1, 2, figsize=[15, 4])\n",
    "\n",
    "# Plotting histogram\n",
    "sns.histplot(x=df['Founded'], kde=True, ax=ax[0])\n",
    "\n",
    "# Plotting boxplot\n",
    "sns.boxplot(x=df['Founded'], ax=ax[1])\n",
    "\n",
    "plt.subplots_adjust(hspace=0.4, wspace=0.4)\n",
    "plt.show()"
   ]
  },
  {
   "cell_type": "code",
   "execution_count": 14,
   "id": "1cb44afe-e41a-44b2-bbae-063543c38873",
   "metadata": {},
   "outputs": [
    {
     "name": "stdout",
     "output_type": "stream",
     "text": [
      "<class 'pandas.core.frame.DataFrame'>\n",
      "RangeIndex: 932 entries, 0 to 931\n",
      "Data columns (total 11 columns):\n",
      " #   Column             Non-Null Count  Dtype  \n",
      "---  ------             --------------  -----  \n",
      " 0   Job Title          932 non-null    object \n",
      " 1   Location           932 non-null    object \n",
      " 2   Size               932 non-null    object \n",
      " 3   Founded            932 non-null    int64  \n",
      " 4   Type of ownership  932 non-null    object \n",
      " 5   Industry           932 non-null    object \n",
      " 6   Sector             932 non-null    object \n",
      " 7   Revenue            932 non-null    object \n",
      " 8   Avg_salary         932 non-null    float64\n",
      " 9   company_name       932 non-null    object \n",
      " 10  jd                 932 non-null    object \n",
      "dtypes: float64(1), int64(1), object(9)\n",
      "memory usage: 80.2+ KB\n"
     ]
    }
   ],
   "source": [
    "df.info()"
   ]
  },
  {
   "cell_type": "code",
   "execution_count": 15,
   "id": "d223f794-9a7f-45c4-b35f-5e3d6a43b573",
   "metadata": {},
   "outputs": [],
   "source": [
    "founded_period = []\n",
    "\n",
    "for i in range(len(df)):\n",
    "    item = df.iloc[i]['Founded']\n",
    "    if 0 < item < 50:\n",
    "        founded_period.append('0-50')\n",
    "    elif 50 <= item <= 100:\n",
    "        founded_period.append('50-100')\n",
    "    else:\n",
    "        founded_period.append('More than 100')\n",
    "\n",
    "# Convert 'Founded' column to string type\n",
    "df['founded_period'] = founded_period\n",
    "df.drop(['Founded'],axis=1,inplace=True)"
   ]
  },
  {
   "cell_type": "markdown",
   "id": "b76acfc3-c099-4256-a529-d40458b0b4e9",
   "metadata": {},
   "source": [
    "#### Fixing the sector feature by finding the sector for the instances having -1"
   ]
  },
  {
   "cell_type": "markdown",
   "id": "1b7e4ffe-402e-4844-8a44-82d9305cea6c",
   "metadata": {},
   "source": [
    "The key difference between `\"industry\"` and `\"sector\"` is that \"industry\" categorizes businesses based on the specific goods or services they produce, while \"sector\" categorizes businesses into broader groupings based on the nature of their economic activity and target markets."
   ]
  },
  {
   "cell_type": "markdown",
   "id": "344dd8d5-e7d2-4cee-84e0-ae1664f8e274",
   "metadata": {},
   "source": [
    "- For instances having sector = -1, look for their job title and then replace the sector with the most frequent of sector for that job title"
   ]
  },
  {
   "cell_type": "code",
   "execution_count": 19,
   "id": "bcbfab74-31be-4d6e-b1bb-705cbdd17192",
   "metadata": {},
   "outputs": [],
   "source": [
    "# Lowercasing for reducing any redundancy (Scientist = scientist)\n",
    "cols = ['Job Title','Type of ownership','Industry','Sector']\n",
    "for col in cols:\n",
    "    df[col] = df[col].str.lower()"
   ]
  },
  {
   "cell_type": "code",
   "execution_count": 20,
   "id": "b3e645f4-b71b-4503-8c46-1168b5f0de07",
   "metadata": {},
   "outputs": [],
   "source": [
    "# From all the instances having no sector mentioned retrieving the instances having data related job profiles\n",
    "data_jobs_indices = []\n",
    "for index, row in df.iterrows():\n",
    "    sector = row['Sector']\n",
    "    if sector == str(-1):\n",
    "        if 'data' in row['Job Title']:\n",
    "            data_jobs_indices.append(index)\n",
    "\n",
    "# Storing all the unique \n",
    "job_profiles = df.iloc[data_jobs_indices]['Job Title'].value_counts().index"
   ]
  },
  {
   "cell_type": "code",
   "execution_count": 21,
   "id": "aeccbd1a-a1a4-4ce6-933a-a4b6727ea8e4",
   "metadata": {},
   "outputs": [],
   "source": [
    "data_jp_sector_dict = {}\n",
    "\n",
    "# For each of the job profile retrieving the most frquent sector\n",
    "for jp in job_profiles:\n",
    "    sector_most_frequent = df[df['Job Title'] == jp]['Sector'].mode()[0]\n",
    "    data_jp_sector_dict[jp] = sector_most_frequent"
   ]
  },
  {
   "cell_type": "code",
   "execution_count": 22,
   "id": "7774e2a8-1d1c-44ed-8ab1-7e78a8a917e1",
   "metadata": {},
   "outputs": [
    {
     "data": {
      "text/plain": [
       "{'data scientist': 'information technology',\n",
       " 'data science manager': '-1',\n",
       " 'big data engineer': '-1',\n",
       " 'lead data engineer': 'information technology',\n",
       " 'data engineer': 'information technology',\n",
       " 'senior data scientist': 'information technology',\n",
       " 'data operations lead': '-1'}"
      ]
     },
     "execution_count": 22,
     "metadata": {},
     "output_type": "execute_result"
    }
   ],
   "source": [
    "data_jp_sector_dict"
   ]
  },
  {
   "cell_type": "markdown",
   "id": "4bcc40e1-70ae-4f5d-ace9-ae5112b3fa62",
   "metadata": {},
   "source": [
    "We can see that for almost all the data related job titles the sector is information technology so we will use this to fill the -1 values"
   ]
  },
  {
   "cell_type": "code",
   "execution_count": 23,
   "id": "33801e4b-07fa-46d6-abc0-d600077da1f5",
   "metadata": {},
   "outputs": [],
   "source": [
    "# Replacing -1 sector value with information technology for all data related job titles \n",
    "for index in data_jobs_indices:\n",
    "    df.loc[index, 'Sector'] = 'information technology'"
   ]
  },
  {
   "cell_type": "code",
   "execution_count": 24,
   "id": "ebb45926-8c2f-4060-854d-c626229cdfc6",
   "metadata": {},
   "outputs": [
    {
     "data": {
      "text/plain": [
       "Index(['research scientist, immunology - cancer biology',\n",
       "       'scientist – cancer drug discovery',\n",
       "       'scientist, upstream process development (bioreactors)',\n",
       "       'senior scientist, cell pharmacology/assay development',\n",
       "       'scientist - analytical development - pharmaceutics',\n",
       "       'postdoc scientist - t cell engineering', 'environmental scientist',\n",
       "       'scientist – cancer discovery, molecular assay',\n",
       "       'principal research scientist/team lead, medicinal chemistry - oncology'],\n",
       "      dtype='object', name='Job Title')"
      ]
     },
     "execution_count": 24,
     "metadata": {},
     "output_type": "execute_result"
    }
   ],
   "source": [
    "remaining_job_titles = df[df['Sector'] == str(-1)]['Job Title'].value_counts().index\n",
    "remaining_job_titles"
   ]
  },
  {
   "cell_type": "markdown",
   "id": "ab424d5f-5861-425b-8342-09df4578dea7",
   "metadata": {},
   "source": [
    "`Healthcare`\n",
    "\n",
    "'senior scientist, cell pharmacology/assay development'\n",
    "'environmental scientist'\n",
    "\n",
    "`Biotech and Pharma`\n",
    "\n",
    "'research scientist, immunology - cancer biology'\n",
    "'scientist – cancer drug discovery'\n",
    "'scientist, upstream process development (bioreactors)'\n",
    "'scientist - analytical development - pharmaceutics'\n",
    "'postdoc scientist - T cell engineering'\n",
    "'scientist – cancer discovery, molecular assay'\n",
    "'principal research scientist/team lead, medicinal chemistry - oncology'"
   ]
  },
  {
   "cell_type": "code",
   "execution_count": 25,
   "id": "7c2ca2bb-6295-468c-b1c9-cf284dc84f0c",
   "metadata": {},
   "outputs": [],
   "source": [
    "health_jt = ['senior scientist, cell pharmacology/assay development', 'environmental scientist']\n",
    "biotech_jt = ['research scientist, immunology - cancer biology',\n",
    "              'scientist – cancer drug discovery',\n",
    "              'scientist, upstream process development (bioreactors)',\n",
    "              'scientist - analytical development - pharmaceutics',\n",
    "              'postdoc scientist - t cell engineering',\n",
    "              'scientist – cancer discovery, molecular assay',\n",
    "              'principal research scientist/team lead, medicinal chemistry - oncology']\n",
    "\n",
    "# Assuming df is your DataFrame with columns 'Job Title' and 'Sector'\n",
    "for h_jt in health_jt:\n",
    "    df.loc[(df['Job Title'] == h_jt) & (df['Sector'] == '-1'), 'Sector'] = 'health care'\n",
    "\n",
    "for b_jt in biotech_jt:\n",
    "    df.loc[(df['Job Title'] == b_jt) & (df['Sector'] == '-1'), 'Sector'] = 'biotech & pharmaceuticals'"
   ]
  },
  {
   "cell_type": "markdown",
   "id": "e27a795d-708e-4776-922f-fdc35f55d779",
   "metadata": {},
   "source": [
    "#### Fixing the industry feature"
   ]
  },
  {
   "cell_type": "code",
   "execution_count": 26,
   "id": "fb37872a-3fc3-4069-855c-4f0ce445a4bb",
   "metadata": {},
   "outputs": [],
   "source": [
    "# From all the instances having no sector mentioned retrieving the instances having data related job profiles\n",
    "data_jobs_indices = []\n",
    "for index, row in df.iterrows():\n",
    "    sector = row['Industry']\n",
    "    if sector == str(-1):\n",
    "        if 'data' in row['Job Title']:\n",
    "            data_jobs_indices.append(index)\n",
    "\n",
    "# Storing all the unique \n",
    "job_profiles = df.iloc[data_jobs_indices]['Job Title'].value_counts().index"
   ]
  },
  {
   "cell_type": "code",
   "execution_count": 27,
   "id": "aaa8bd91-8892-4753-b400-6d8eb4c4041e",
   "metadata": {},
   "outputs": [],
   "source": [
    "data_jp_industry_dict = {}\n",
    "\n",
    "# For each of the job profile retrieving the most frquent sector\n",
    "for jp in job_profiles:\n",
    "    sector_most_frequent = df[df['Job Title'] == jp]['Industry'].mode()[0]\n",
    "    data_jp_industry_dict[jp] = sector_most_frequent"
   ]
  },
  {
   "cell_type": "code",
   "execution_count": 28,
   "id": "550552e5-082e-4511-81ea-be24adf95422",
   "metadata": {},
   "outputs": [],
   "source": [
    "# Replacing -1 sector value with information technology for all data related job titles \n",
    "for index in data_jobs_indices:\n",
    "    df.loc[index, 'Industry'] = 'it services'"
   ]
  },
  {
   "cell_type": "code",
   "execution_count": 29,
   "id": "b0b41108-7785-408f-9b76-84444294d766",
   "metadata": {},
   "outputs": [
    {
     "data": {
      "text/plain": [
       "Index(['research scientist, immunology - cancer biology',\n",
       "       'scientist – cancer drug discovery',\n",
       "       'scientist, upstream process development (bioreactors)',\n",
       "       'senior scientist, cell pharmacology/assay development',\n",
       "       'scientist - analytical development - pharmaceutics',\n",
       "       'postdoc scientist - t cell engineering', 'environmental scientist',\n",
       "       'scientist – cancer discovery, molecular assay',\n",
       "       'principal research scientist/team lead, medicinal chemistry - oncology'],\n",
       "      dtype='object', name='Job Title')"
      ]
     },
     "execution_count": 29,
     "metadata": {},
     "output_type": "execute_result"
    }
   ],
   "source": [
    "remaining_job_titles = df[df['Industry'] == str(-1)]['Job Title'].value_counts().index\n",
    "remaining_job_titles"
   ]
  },
  {
   "cell_type": "code",
   "execution_count": 30,
   "id": "c4d496e7-f3cd-42ac-bad6-986c0022c019",
   "metadata": {},
   "outputs": [],
   "source": [
    "for h_jt in health_jt:\n",
    "    df.loc[(df['Job Title'] == h_jt) & (df['Industry'] == '-1'), 'Industry'] = 'health care services & hospitals'\n",
    "\n",
    "for b_jt in biotech_jt:\n",
    "    df.loc[(df['Job Title'] == b_jt) & (df['Industry'] == '-1'), 'Industry'] = 'biotech & pharmaceuticals'"
   ]
  },
  {
   "cell_type": "markdown",
   "id": "8ca9c3b9-9598-40fb-b1e8-48bd59b2cf47",
   "metadata": {},
   "source": [
    "#### Replacing the -1 in Size feature with `Unknown` feature"
   ]
  },
  {
   "cell_type": "code",
   "execution_count": 31,
   "id": "70323a33-a5fe-4e59-9be8-6111d2fc7ad5",
   "metadata": {},
   "outputs": [],
   "source": [
    "df['Size'] = df['Size'].replace('-1','Unknown')"
   ]
  },
  {
   "cell_type": "markdown",
   "id": "3512afeb-f568-47da-9a4f-7fc1325ce147",
   "metadata": {},
   "source": [
    "#### Replacing the Unkown/Non-Appicable in Size feature with `Unknown` feature value"
   ]
  },
  {
   "cell_type": "code",
   "execution_count": 32,
   "id": "d8dd67f1-4b70-43f5-bf9f-b43b93f2ee4d",
   "metadata": {},
   "outputs": [],
   "source": [
    "df['Revenue'] = df['Revenue'].replace('Unknown / Non-Applicable', 'Unknown')"
   ]
  },
  {
   "cell_type": "markdown",
   "id": "e804fec3-1ab8-4ec5-b41e-9360fff7a886",
   "metadata": {},
   "source": [
    "Based on my analysis I have found that the companies which have either revenue or type of ownership feature value missing they also do not have any associated value for the Avg_salary so we will simply remove such rows from the dataframe."
   ]
  },
  {
   "cell_type": "code",
   "execution_count": 33,
   "id": "b7ab3020-476f-4c16-a81b-8bb518d0dc20",
   "metadata": {},
   "outputs": [],
   "source": [
    "rem_idx = df[(df['Revenue'] == str(-1)) | (df['Type of ownership'] == str(-1))].index\n",
    "df.drop(rem_idx,axis=0,inplace=True)"
   ]
  },
  {
   "cell_type": "markdown",
   "id": "29d6db17-d7b5-46e3-856e-ebeda8135969",
   "metadata": {},
   "source": [
    "## Train test split\n",
    "For doing train test split we will be using 80% data for training and remaining 20% for testing.Now since there are 204 instances for which there are no associated target variable values so we will be using all those instances as the testing data and remaining ones for the training"
   ]
  },
  {
   "cell_type": "code",
   "execution_count": 34,
   "id": "a13bfe81-21e6-4aa8-9d98-5d7307ff53d3",
   "metadata": {},
   "outputs": [],
   "source": [
    "# Identify indices of instances with missing target values\n",
    "indexes_avg_salary_nan = df[df['Avg_salary'] == -1].index\n",
    "\n",
    "# Create a mask to select rows not in indexes_avg_salary_nan\n",
    "mask_train = ~df.index.isin(indexes_avg_salary_nan)\n",
    "\n",
    "# Use the mask to select rows for the training set\n",
    "train_df = df[mask_train]\n",
    "\n",
    "# Use the indices to select rows for the testing set\n",
    "test_df = df.loc[indexes_avg_salary_nan]"
   ]
  },
  {
   "cell_type": "markdown",
   "id": "778243a7-b084-48bf-a1da-cfbc7cb4c233",
   "metadata": {},
   "source": [
    "## Data processing pipeline\n",
    "\n",
    "- Target Encoding\n",
    "    - Job title\n",
    "    - Location\n",
    "    - Type of ownership\n",
    "    - industry\n",
    "    - sector\n",
    "    - company_name\n",
    "    \n",
    "- Ordinal encoding\n",
    "    - Size\n",
    "    - Revenue\n",
    "    - founded_period\n",
    " \n",
    "- Scaling : Target encoded and ordinal encoded values\n",
    "\n",
    "- Embeddings : job description "
   ]
  },
  {
   "cell_type": "code",
   "execution_count": 35,
   "id": "a0f9982e-f62d-4021-b589-28680e457072",
   "metadata": {},
   "outputs": [],
   "source": [
    "updated_order = ['Job Title', 'Location', 'Type of ownership','Industry', 'Sector','company_name',\n",
    "                 'Size', 'founded_period', 'Revenue','jd','Avg_salary']\n",
    "\n",
    "train_df = train_df[updated_order]"
   ]
  },
  {
   "cell_type": "code",
   "execution_count": 36,
   "id": "a1e78af3-76d0-42cb-b99c-91c012cd8b98",
   "metadata": {},
   "outputs": [
    {
     "data": {
      "text/html": [
       "<div>\n",
       "<style scoped>\n",
       "    .dataframe tbody tr th:only-of-type {\n",
       "        vertical-align: middle;\n",
       "    }\n",
       "\n",
       "    .dataframe tbody tr th {\n",
       "        vertical-align: top;\n",
       "    }\n",
       "\n",
       "    .dataframe thead th {\n",
       "        text-align: right;\n",
       "    }\n",
       "</style>\n",
       "<table border=\"1\" class=\"dataframe\">\n",
       "  <thead>\n",
       "    <tr style=\"text-align: right;\">\n",
       "      <th></th>\n",
       "      <th>Job Title</th>\n",
       "      <th>Location</th>\n",
       "      <th>Type of ownership</th>\n",
       "      <th>Industry</th>\n",
       "      <th>Sector</th>\n",
       "      <th>company_name</th>\n",
       "      <th>Size</th>\n",
       "      <th>founded_period</th>\n",
       "      <th>Revenue</th>\n",
       "      <th>jd</th>\n",
       "      <th>Avg_salary</th>\n",
       "    </tr>\n",
       "  </thead>\n",
       "  <tbody>\n",
       "    <tr>\n",
       "      <th>0</th>\n",
       "      <td>data scientist</td>\n",
       "      <td>Albuquerque, NM</td>\n",
       "      <td>company - private</td>\n",
       "      <td>aerospace &amp; defense</td>\n",
       "      <td>aerospace &amp; defense</td>\n",
       "      <td>Tecolote Research</td>\n",
       "      <td>501 to 1000 employees</td>\n",
       "      <td>50-100</td>\n",
       "      <td>$50 to $100 million (USD)</td>\n",
       "      <td>data scientist location albuquerque nm educati...</td>\n",
       "      <td>72.0</td>\n",
       "    </tr>\n",
       "    <tr>\n",
       "      <th>1</th>\n",
       "      <td>healthcare data scientist</td>\n",
       "      <td>Linthicum, MD</td>\n",
       "      <td>other organization</td>\n",
       "      <td>health care services &amp; hospitals</td>\n",
       "      <td>health care</td>\n",
       "      <td>University of Maryland Medical System</td>\n",
       "      <td>10000+ employees</td>\n",
       "      <td>0-50</td>\n",
       "      <td>$2 to $5 billion (USD)</td>\n",
       "      <td>general summary healthcare data scientist posi...</td>\n",
       "      <td>87.5</td>\n",
       "    </tr>\n",
       "    <tr>\n",
       "      <th>2</th>\n",
       "      <td>data scientist</td>\n",
       "      <td>Clearwater, FL</td>\n",
       "      <td>company - private</td>\n",
       "      <td>security services</td>\n",
       "      <td>business services</td>\n",
       "      <td>KnowBe4</td>\n",
       "      <td>501 to 1000 employees</td>\n",
       "      <td>0-50</td>\n",
       "      <td>$100 to $500 million (USD)</td>\n",
       "      <td>knowbe4 inc high growth information security c...</td>\n",
       "      <td>85.0</td>\n",
       "    </tr>\n",
       "    <tr>\n",
       "      <th>3</th>\n",
       "      <td>data scientist</td>\n",
       "      <td>Richland, WA</td>\n",
       "      <td>government</td>\n",
       "      <td>energy</td>\n",
       "      <td>oil, gas, energy &amp; utilities</td>\n",
       "      <td>PNNL</td>\n",
       "      <td>1001 to 5000 employees</td>\n",
       "      <td>50-100</td>\n",
       "      <td>$500 million to $1 billion (USD)</td>\n",
       "      <td>organization job id job id 310709 directorate ...</td>\n",
       "      <td>76.5</td>\n",
       "    </tr>\n",
       "    <tr>\n",
       "      <th>4</th>\n",
       "      <td>data scientist</td>\n",
       "      <td>New York, NY</td>\n",
       "      <td>company - private</td>\n",
       "      <td>advertising &amp; marketing</td>\n",
       "      <td>business services</td>\n",
       "      <td>Affinity Solutions</td>\n",
       "      <td>51 to 200 employees</td>\n",
       "      <td>0-50</td>\n",
       "      <td>Unknown</td>\n",
       "      <td>data scientist affinity solution marketing clo...</td>\n",
       "      <td>114.5</td>\n",
       "    </tr>\n",
       "  </tbody>\n",
       "</table>\n",
       "</div>"
      ],
      "text/plain": [
       "                   Job Title         Location   Type of ownership  \\\n",
       "0             data scientist  Albuquerque, NM   company - private   \n",
       "1  healthcare data scientist    Linthicum, MD  other organization   \n",
       "2             data scientist   Clearwater, FL   company - private   \n",
       "3             data scientist     Richland, WA          government   \n",
       "4             data scientist     New York, NY   company - private   \n",
       "\n",
       "                           Industry                        Sector  \\\n",
       "0               aerospace & defense           aerospace & defense   \n",
       "1  health care services & hospitals                   health care   \n",
       "2                 security services             business services   \n",
       "3                            energy  oil, gas, energy & utilities   \n",
       "4           advertising & marketing             business services   \n",
       "\n",
       "                            company_name                    Size  \\\n",
       "0                      Tecolote Research   501 to 1000 employees   \n",
       "1  University of Maryland Medical System        10000+ employees   \n",
       "2                                KnowBe4   501 to 1000 employees   \n",
       "3                                   PNNL  1001 to 5000 employees   \n",
       "4                     Affinity Solutions     51 to 200 employees   \n",
       "\n",
       "  founded_period                           Revenue  \\\n",
       "0         50-100         $50 to $100 million (USD)   \n",
       "1           0-50            $2 to $5 billion (USD)   \n",
       "2           0-50        $100 to $500 million (USD)   \n",
       "3         50-100  $500 million to $1 billion (USD)   \n",
       "4           0-50                           Unknown   \n",
       "\n",
       "                                                  jd  Avg_salary  \n",
       "0  data scientist location albuquerque nm educati...        72.0  \n",
       "1  general summary healthcare data scientist posi...        87.5  \n",
       "2  knowbe4 inc high growth information security c...        85.0  \n",
       "3  organization job id job id 310709 directorate ...        76.5  \n",
       "4  data scientist affinity solution marketing clo...       114.5  "
      ]
     },
     "execution_count": 36,
     "metadata": {},
     "output_type": "execute_result"
    }
   ],
   "source": [
    "train_df.head(5)"
   ]
  },
  {
   "cell_type": "code",
   "execution_count": 38,
   "id": "3cdc9f7f-e508-4e6c-8129-9e6a081ae234",
   "metadata": {},
   "outputs": [
    {
     "data": {
      "text/plain": [
       "Index(['1001 to 5000 employees', '201 to 500 employees', '51 to 200 employees',\n",
       "       '10000+ employees', '501 to 1000 employees', '5001 to 10000 employees',\n",
       "       '1 to 50 employees', 'Unknown'],\n",
       "      dtype='object', name='Size')"
      ]
     },
     "execution_count": 38,
     "metadata": {},
     "output_type": "execute_result"
    }
   ],
   "source": [
    "df['Size'].value_counts().index"
   ]
  },
  {
   "cell_type": "code",
   "execution_count": null,
   "id": "c264d0fd-505a-4ddb-a6ce-0db5a586197a",
   "metadata": {},
   "outputs": [],
   "source": [
    "# Column transformer for doing ordinal and nominal encoding\n",
    "encoding_transformer = ColumnTransformer(transformers=[\n",
    "\n",
    "    ('Encode_jt', ce.TargetEncoder(cols=['Job Title']), [0]),\n",
    "    ('Encode_location', ce.TargetEncoder(cols=['Location']), [1]),\n",
    "    ('Encode_ownership', ce.TargetEncoder(cols=['Type of ownership']), [2]),\n",
    "    ('Encode_industry', ce.TargetEncoder(cols=['Industry']), [3]),\n",
    "    ('Encode_sector', ce.TargetEncoder(cols=['Sector']), [4]),\n",
    "    ('Encode_name', ce.TargetEncoder(cols=['company_name']), [5]),\n",
    "\n",
    "    ('Encode_size', OrdinalEncoder(categories=[\n",
    "        ['1 to 50 employees',\n",
    "        '51 to 200 employees',\n",
    "        '201 to 500 employees',\n",
    "        '501 to 1000 employees',\n",
    "        '1001 to 5000 employees',\n",
    "        '5001 to 10000 employees',\n",
    "        '10000+ employees',\n",
    "        'Unknown']\n",
    "    ], handle_unknown=\"use_encoded_value\", unknown_value=np.nan), [6]),\n",
    "\n",
    "    ('Encode_founded', OrdinalEncoder(categories=[\n",
    "        ['0-50', '50-100', 'More than 100']\n",
    "    ], handle_unknown=\"use_encoded_value\", unknown_value=np.nan), [7]),\n",
    "\n",
    "    ('Encode_revenue', OrdinalEncoder(categories=[\n",
    "        ['Unknown', 'Less than $1 million (USD)',\n",
    "        '$1 to $5 million (USD)',\n",
    "        '$5 to $10 million (USD)',\n",
    "        '$10 to $25 million (USD)',\n",
    "        '$25 to $50 million (USD)',\n",
    "        '$50 to $100 million (USD)',\n",
    "        '$100 to $500 million (USD)',\n",
    "        '$500 million to $1 billion (USD)',\n",
    "        '$1 to $2 billion (USD)',\n",
    "        '$2 to $5 billion (USD)',\n",
    "        '$5 to $10 billion (USD)',\n",
    "        '$10+ billion (USD)']\n",
    "    ], handle_unknown=\"use_encoded_value\", unknown_value=np.nan), [8]),\n",
    "], remainder='passthrough')\n",
    "\n",
    "\n",
    "# Column transformer for doing feature scaling\n",
    "scaling_transformer = ColumnTransformer(transformers = [\n",
    "    ('StandardScaling',StandardScaler(copy=False),[0,1,2,3,4,6,7,8,10])],remainder='passthrough')\n",
    "\n",
    "\n",
    "# Stacking column transformers to create a Processing pipeline\n",
    "Processing_pipeline = Pipeline(steps = [('Encoding',encoding_transformer),\n",
    "                                        ('Transformation',math_transformer),\n",
    "                             ('Scaling',scaling_transformer)],memory='Temp')"
   ]
  },
  {
   "cell_type": "code",
   "execution_count": 94,
   "id": "a87d2eb6-cced-48e2-85dd-b509c3f56c2c",
   "metadata": {},
   "outputs": [
    {
     "data": {
      "text/html": [
       "<div>\n",
       "<style scoped>\n",
       "    .dataframe tbody tr th:only-of-type {\n",
       "        vertical-align: middle;\n",
       "    }\n",
       "\n",
       "    .dataframe tbody tr th {\n",
       "        vertical-align: top;\n",
       "    }\n",
       "\n",
       "    .dataframe thead th {\n",
       "        text-align: right;\n",
       "    }\n",
       "</style>\n",
       "<table border=\"1\" class=\"dataframe\">\n",
       "  <thead>\n",
       "    <tr style=\"text-align: right;\">\n",
       "      <th></th>\n",
       "      <th>Job Title</th>\n",
       "      <th>Location</th>\n",
       "      <th>Size</th>\n",
       "      <th>Founded</th>\n",
       "      <th>Type of ownership</th>\n",
       "      <th>Industry</th>\n",
       "      <th>Sector</th>\n",
       "      <th>Revenue</th>\n",
       "      <th>Avg_salary</th>\n",
       "      <th>company_name</th>\n",
       "      <th>jd</th>\n",
       "    </tr>\n",
       "  </thead>\n",
       "  <tbody>\n",
       "    <tr>\n",
       "      <th>0</th>\n",
       "      <td>data scientist</td>\n",
       "      <td>Albuquerque, NM</td>\n",
       "      <td>501 to 1000 employees</td>\n",
       "      <td>51</td>\n",
       "      <td>company - private</td>\n",
       "      <td>aerospace &amp; defense</td>\n",
       "      <td>aerospace &amp; defense</td>\n",
       "      <td>$50 to $100 million (USD)</td>\n",
       "      <td>72.0</td>\n",
       "      <td>Tecolote Research</td>\n",
       "      <td>data scientist location albuquerque nm educati...</td>\n",
       "    </tr>\n",
       "    <tr>\n",
       "      <th>1</th>\n",
       "      <td>healthcare data scientist</td>\n",
       "      <td>Linthicum, MD</td>\n",
       "      <td>10000+ employees</td>\n",
       "      <td>40</td>\n",
       "      <td>other organization</td>\n",
       "      <td>health care services &amp; hospitals</td>\n",
       "      <td>health care</td>\n",
       "      <td>$2 to $5 billion (USD)</td>\n",
       "      <td>87.5</td>\n",
       "      <td>University of Maryland Medical System</td>\n",
       "      <td>general summary healthcare data scientist posi...</td>\n",
       "    </tr>\n",
       "    <tr>\n",
       "      <th>2</th>\n",
       "      <td>data scientist</td>\n",
       "      <td>Clearwater, FL</td>\n",
       "      <td>501 to 1000 employees</td>\n",
       "      <td>14</td>\n",
       "      <td>company - private</td>\n",
       "      <td>security services</td>\n",
       "      <td>business services</td>\n",
       "      <td>$100 to $500 million (USD)</td>\n",
       "      <td>85.0</td>\n",
       "      <td>KnowBe4</td>\n",
       "      <td>knowbe4 inc high growth information security c...</td>\n",
       "    </tr>\n",
       "    <tr>\n",
       "      <th>3</th>\n",
       "      <td>data scientist</td>\n",
       "      <td>Richland, WA</td>\n",
       "      <td>1001 to 5000 employees</td>\n",
       "      <td>59</td>\n",
       "      <td>government</td>\n",
       "      <td>energy</td>\n",
       "      <td>oil, gas, energy &amp; utilities</td>\n",
       "      <td>$500 million to $1 billion (USD)</td>\n",
       "      <td>76.5</td>\n",
       "      <td>PNNL</td>\n",
       "      <td>organization job id job id 310709 directorate ...</td>\n",
       "    </tr>\n",
       "  </tbody>\n",
       "</table>\n",
       "</div>"
      ],
      "text/plain": [
       "                   Job Title         Location                    Size  \\\n",
       "0             data scientist  Albuquerque, NM   501 to 1000 employees   \n",
       "1  healthcare data scientist    Linthicum, MD        10000+ employees   \n",
       "2             data scientist   Clearwater, FL   501 to 1000 employees   \n",
       "3             data scientist     Richland, WA  1001 to 5000 employees   \n",
       "\n",
       "   Founded   Type of ownership                          Industry  \\\n",
       "0       51   company - private               aerospace & defense   \n",
       "1       40  other organization  health care services & hospitals   \n",
       "2       14   company - private                 security services   \n",
       "3       59          government                            energy   \n",
       "\n",
       "                         Sector                           Revenue  Avg_salary  \\\n",
       "0           aerospace & defense         $50 to $100 million (USD)        72.0   \n",
       "1                   health care            $2 to $5 billion (USD)        87.5   \n",
       "2             business services        $100 to $500 million (USD)        85.0   \n",
       "3  oil, gas, energy & utilities  $500 million to $1 billion (USD)        76.5   \n",
       "\n",
       "                            company_name  \\\n",
       "0                      Tecolote Research   \n",
       "1  University of Maryland Medical System   \n",
       "2                                KnowBe4   \n",
       "3                                   PNNL   \n",
       "\n",
       "                                                  jd  \n",
       "0  data scientist location albuquerque nm educati...  \n",
       "1  general summary healthcare data scientist posi...  \n",
       "2  knowbe4 inc high growth information security c...  \n",
       "3  organization job id job id 310709 directorate ...  "
      ]
     },
     "execution_count": 94,
     "metadata": {},
     "output_type": "execute_result"
    }
   ],
   "source": [
    "train_df.head(4)"
   ]
  },
  {
   "cell_type": "code",
   "execution_count": null,
   "id": "11c0f4cd-f9bc-476c-9177-1ab59e29e814",
   "metadata": {},
   "outputs": [],
   "source": [
    "values = [\n",
    "    '-1',\n",
    "    'Less than $1 million (USD)',\n",
    "    '$1 to $5 million (USD)',\n",
    "    '$5 to $10 million (USD)',\n",
    "    '$10 to $25 million (USD)',\n",
    "    '$25 to $50 million (USD)',\n",
    "    '$50 to $100 million (USD)',\n",
    "    '$100 to $500 million (USD)',\n",
    "    '$500 million to $1 billion (USD)',\n",
    "    '$1 to $2 billion (USD)',\n",
    "    '$2 to $5 billion (USD)',\n",
    "    '$5 to $10 billion (USD)',\n",
    "    '$10+ billion (USD)',\n",
    "    'Unknown'\n",
    "]"
   ]
  }
 ],
 "metadata": {
  "kernelspec": {
   "display_name": "AI_Tutor",
   "language": "python",
   "name": "ai_tutor"
  },
  "language_info": {
   "codemirror_mode": {
    "name": "ipython",
    "version": 3
   },
   "file_extension": ".py",
   "mimetype": "text/x-python",
   "name": "python",
   "nbconvert_exporter": "python",
   "pygments_lexer": "ipython3",
   "version": "3.11.5"
  }
 },
 "nbformat": 4,
 "nbformat_minor": 5
}
